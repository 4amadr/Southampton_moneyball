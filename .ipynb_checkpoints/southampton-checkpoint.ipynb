{
 "cells": [
  {
   "cell_type": "code",
   "execution_count": 42,
   "id": "06e299c3-2415-4646-89e9-be649c2b2885",
   "metadata": {},
   "outputs": [
    {
     "data": {
      "text/plain": [
       "['Player Name',\n",
       " 'Club',\n",
       " 'Nationality',\n",
       " 'Position',\n",
       " 'Appearances',\n",
       " 'Minutes',\n",
       " 'Goals',\n",
       " 'Assists',\n",
       " 'Shots',\n",
       " 'Shots On Target',\n",
       " 'Conversion %',\n",
       " 'Big Chances Missed',\n",
       " 'Hit Woodwork',\n",
       " 'Offsides',\n",
       " 'Touches',\n",
       " 'Passes',\n",
       " 'Successful Passes',\n",
       " 'Passes%',\n",
       " 'Crosses',\n",
       " 'Successful Crosses',\n",
       " 'Crosses %',\n",
       " 'fThird Passes',\n",
       " 'Successful fThird Passes',\n",
       " 'fThird Passes %',\n",
       " 'Through Balls',\n",
       " 'Carries',\n",
       " 'Progressive Carries',\n",
       " 'Carries Ended with Goal',\n",
       " 'Carries Ended with Assist',\n",
       " 'Carries Ended with Shot',\n",
       " 'Carries Ended with Chance',\n",
       " 'Possession Won',\n",
       " 'Dispossessed',\n",
       " 'Clean Sheets',\n",
       " 'Clearances',\n",
       " 'Interceptions',\n",
       " 'Blocks',\n",
       " 'Tackles',\n",
       " 'Ground Duels',\n",
       " 'gDuels Won',\n",
       " 'gDuels %',\n",
       " 'Aerial Duels',\n",
       " 'aDuels Won',\n",
       " 'aDuels %',\n",
       " 'Goals Conceded',\n",
       " 'xGoT Conceded',\n",
       " 'Own Goals',\n",
       " 'Fouls',\n",
       " 'Yellow Cards',\n",
       " 'Red Cards',\n",
       " 'Saves',\n",
       " 'Saves %',\n",
       " 'Penalties Saved',\n",
       " 'Clearances Off Line',\n",
       " 'Punches',\n",
       " 'High Claims',\n",
       " 'Goals Prevented',\n",
       " 'Desarmes por 90m',\n",
       " 'Intercept por 90m',\n",
       " 'Bolas zeradas po 90m',\n",
       " 'Bloqueios por 90m',\n",
       " 'Duelos no chão por 90m',\n",
       " 'Duelos aereos por 90m',\n",
       " 'Versatilidade defensiva',\n",
       " 'Desarmes sucesso %',\n",
       " 'Impacto de Posse',\n",
       " 'Influência contra gols',\n",
       " 'Segurança Defensiva',\n",
       " 'Frieza Defensiva',\n",
       " 'Passes por 90m',\n",
       " 'Quebra de linha por 90m',\n",
       " 'Condução por 90m',\n",
       " 'Condução ao ataque por 90m',\n",
       " 'Assistencias por 90m',\n",
       " 'Conduções que geraram assistencia por 90m',\n",
       " 'Eficacia com a bola',\n",
       " 'Gols por 90m',\n",
       " 'Chutes por 90m',\n",
       " 'Chutes ao gol por 90m',\n",
       " 'Grandes chances perdidas por 90m',\n",
       " 'Gols por Assistência']"
      ]
     },
     "execution_count": 42,
     "metadata": {},
     "output_type": "execute_result"
    }
   ],
   "source": [
    "# importações\n",
    "import pandas as pd\n",
    "import matplotlib.pyplot as plt\n",
    "import numpy as np\n",
    "\n",
    "df_southampton = pd.read_csv(\"Southampton.csv\")\n",
    "df_pl = pd.read_csv(\"PL_data.csv\")\n",
    "df_southampton.columns.tolist()\n",
    "\n",
    "\n",
    "#df_southampton"
   ]
  },
  {
   "cell_type": "code",
   "execution_count": 43,
   "id": "e3a32670-085c-4678-bb9b-62e1a2887867",
   "metadata": {},
   "outputs": [
    {
     "name": "stdout",
     "output_type": "stream",
     "text": [
      "\n",
      " Comparação da defesa do time com a média defensiva da competição (DEF):\n",
      "\n",
      "Fouls: estatisticas Southampton = 12.00 vs Fouls estatisticas Premier League = 12.70\n",
      "Yellow Cards: estatisticas Southampton = 2.38 vs Yellow Cards estatisticas Premier League = 2.89\n",
      "Aerial Duels: estatisticas Southampton = 35.00 vs Aerial Duels estatisticas Premier League = 36.84\n",
      "Clean Sheets: estatisticas Southampton = 0.77 vs Clean Sheets estatisticas Premier League = 2.95\n",
      "Tackles: estatisticas Southampton = 15.31 vs Tackles estatisticas Premier League = 27.60\n",
      "Blocks: estatisticas Southampton = 6.69 vs Blocks estatisticas Premier League = 4.75\n",
      "Interceptions: estatisticas Southampton = 11.54 vs Interceptions estatisticas Premier League = 11.10\n",
      "Possession Won: estatisticas Southampton = 51.54 vs Possession Won estatisticas Premier League = 52.61\n",
      "Ground Duels: estatisticas Southampton = 79.54 vs Ground Duels estatisticas Premier League = 88.80\n",
      "Influência contra gols: estatisticas Southampton = nan vs Influência contra gols estatisticas Premier League = nan\n",
      "Intercept por 90m: estatisticas Southampton = 0.60 vs Intercept por 90m estatisticas Premier League = 0.51\n",
      "Desarmes por 90m: estatisticas Southampton = 1.22 vs Desarmes por 90m estatisticas Premier League = 2.36\n",
      "Bolas zeradas po 90m: estatisticas Southampton = 2.77 vs Bolas zeradas po 90m estatisticas Premier League = 4.47\n",
      "Duelos aereos por 90m: estatisticas Southampton = 1.75 vs Duelos aereos por 90m estatisticas Premier League = 1.73\n",
      "Frieza Defensiva: estatisticas Southampton = nan vs Frieza Defensiva estatisticas Premier League = nan\n",
      "Versatilidade defensiva: estatisticas Southampton = 4.39 vs Versatilidade defensiva estatisticas Premier League = 3.78\n",
      "Impacto de Posse: estatisticas Southampton = 15.72 vs Impacto de Posse estatisticas Premier League = 12.56\n"
     ]
    }
   ],
   "source": [
    "# Comparando a defesa do time com a média da Premier League\n",
    "\n",
    "# Define a função para extrair as estatísticas desejadas\n",
    "def comparacao_defesa(df_southampton, df_pl, posicao=\"DEF\", metricas=None):\n",
    "    if metricas is None:\n",
    "        metricas = [\n",
    "            \"Fouls\", \"Yellow Cards\", \"Aerial Duels\", \"Clean Sheets\",\n",
    "            \"Tackles\", \"Blocks\", \"Interceptions\", \"Possession Won\", \"Ground Duels\",\n",
    "            'Influência contra gols', 'Intercept por 90m', 'Desarmes por 90m', \n",
    "            'Bolas zeradas po 90m', 'Duelos aereos por 90m', 'Frieza Defensiva', 'Versatilidade defensiva',\n",
    "            'Impacto de Posse', \n",
    "            \n",
    "        ]\n",
    "\n",
    "    defesa_time = df_southampton[df_southampton[\"Position\"] == \"DEF\"]\n",
    "    defesa_liga = df_pl[df_pl[\"Position\"] == \"DEF\"]\n",
    "\n",
    "    print(f\"\\n Comparação da defesa do time com a média defensiva da competição ({posicao}):\\n\")\n",
    "\n",
    "    for metrica in metricas:\n",
    "        media_time = defesa_time[metrica].mean()\n",
    "        media_liga = defesa_liga[metrica].mean()\n",
    "        print(f\"{metrica}: estatisticas Southampton = {media_time:.2f} vs {metrica} estatisticas Premier League = {media_liga:.2f}\")\n",
    "\n",
    "# Chamando a função\n",
    "comparacao_defesa(df_southampton, df_pl)"
   ]
  },
  {
   "cell_type": "code",
   "execution_count": 44,
   "id": "f277a031-17f5-43df-82c8-42a700aa51c7",
   "metadata": {},
   "outputs": [],
   "source": [
    "# convertendo valores de porcentagem em numeros\n",
    "df_southampton[\"fThird Passes %\"] = df_southampton[\"fThird Passes %\"].str.replace(\"%\", \"\").astype(float)\n",
    "df_pl[\"fThird Passes %\"] = df_pl[\"fThird Passes %\"].str.replace(\"%\", \"\").astype(float)"
   ]
  },
  {
   "cell_type": "code",
   "execution_count": 45,
   "id": "a07d3241-2617-41d1-9020-51f82f373af9",
   "metadata": {},
   "outputs": [
    {
     "name": "stdout",
     "output_type": "stream",
     "text": [
      "\n",
      " Comparação do desempenho dos meias do time com a média da competição (MID):\n",
      "\n",
      "Assists: estatisticas Southampton = 0.55 vs Assists estatisticas Premier League = 1.98\n",
      "Passes: estatisticas Southampton = 595.00 vs Passes estatisticas Premier League = 588.82\n",
      "Successful Passes: estatisticas Southampton = 515.00 vs Successful Passes estatisticas Premier League = 497.33\n",
      "fThird Passes %: estatisticas Southampton = 33.36 vs fThird Passes % estatisticas Premier League = 45.40\n",
      "Through Balls: estatisticas Southampton = 2.73 vs Through Balls estatisticas Premier League = 2.69\n",
      "Passes por 90m: estatisticas Southampton = 28.74 vs Passes por 90m estatisticas Premier League = 28.46\n",
      "Quebra de linha por 90m: estatisticas Southampton = 0.12 vs Quebra de linha por 90m estatisticas Premier League = 0.13\n",
      "Condução por 90m: estatisticas Southampton = 8.34 vs Condução por 90m estatisticas Premier League = 8.01\n",
      "Condução ao ataque por 90m: estatisticas Southampton = 4.88 vs Condução ao ataque por 90m estatisticas Premier League = 4.16\n",
      "Assistencias por 90m: estatisticas Southampton = 0.06 vs Assistencias por 90m estatisticas Premier League = 0.10\n",
      "Conduções que geraram assistencia por 90m: estatisticas Southampton = 4.94 vs Conduções que geraram assistencia por 90m estatisticas Premier League = 4.26\n",
      "Eficacia com a bola: estatisticas Southampton = 2.57 vs Eficacia com a bola estatisticas Premier League = 3.45\n"
     ]
    }
   ],
   "source": [
    "# Comparando meio campo\n",
    "def comparacao_meio_campo(df_southampton, df_pl, posicao=\"MID\", metricas_MID=None):\n",
    "    if metricas_MID is None:\n",
    "        metricas_MID = [\n",
    "            \"Assists\", \"Passes\", \"Successful Passes\", \"fThird Passes %\", \"Through Balls\",\n",
    "            'Passes por 90m', 'Quebra de linha por 90m', 'Condução por 90m', 'Condução ao ataque por 90m',\n",
    "            'Assistencias por 90m', 'Conduções que geraram assistencia por 90m', 'Eficacia com a bola'\n",
    "        ]\n",
    "\n",
    "    meio_campo_time = df_southampton[df_southampton[\"Position\"] == \"MID\"]\n",
    "    meio_campo_pl = df_pl[df_pl[\"Position\"] == \"MID\"]\n",
    "\n",
    "    print(f\"\\n Comparação do desempenho dos meias do time com a média da competição ({posicao}):\\n\")\n",
    "\n",
    "    for metrica_MID in metricas_MID:\n",
    "        media_time_meias = meio_campo_time[metrica_MID].mean()\n",
    "        media_liga_meias = meio_campo_pl[metrica_MID].mean()\n",
    "        print(f\"{metrica_MID}: estatisticas Southampton = {media_time_meias:.2f} vs {metrica_MID} estatisticas Premier League = {media_liga_meias:.2f}\")\n",
    "\n",
    "# Chamando a função\n",
    "comparacao_meio_campo(df_southampton, df_pl)"
   ]
  },
  {
   "cell_type": "code",
   "execution_count": 46,
   "id": "75c4e3ff-306d-4a66-9853-1f182d9cade8",
   "metadata": {},
   "outputs": [
    {
     "name": "stdout",
     "output_type": "stream",
     "text": [
      "\n",
      " Comparação dos laterais do time com a média de laterais da competição (DEF):\n",
      "\n",
      "Fouls: estatísticas Southampton = 12.00 vs estatísticas Premier League = 12.70\n",
      "Yellow Cards: estatísticas Southampton = 2.38 vs estatísticas Premier League = 2.89\n",
      "Tackles: estatísticas Southampton = 15.31 vs estatísticas Premier League = 27.60\n",
      "Blocks: estatísticas Southampton = 6.69 vs estatísticas Premier League = 4.75\n",
      "Interceptions: estatísticas Southampton = 11.54 vs estatísticas Premier League = 11.10\n",
      "Possession Won: estatísticas Southampton = 51.54 vs estatísticas Premier League = 52.61\n",
      "Ground Duels: estatísticas Southampton = 79.54 vs estatísticas Premier League = 88.80\n",
      "Crosses: estatísticas Southampton = 10.15 vs estatísticas Premier League = 14.92\n",
      "Carries: estatísticas Southampton = 222.00 vs estatísticas Premier League = 144.27\n"
     ]
    }
   ],
   "source": [
    "# analisando laterais\n",
    "def comparacao_laterais(df_southampton, df_pl, posicao=\"DEF\", metricas_laterais=None):\n",
    "    if metricas_laterais is None:\n",
    "        metricas_laterais = [\n",
    "            \"Fouls\", \"Yellow Cards\", \"Tackles\", \"Blocks\", \"Interceptions\", \"Possession Won\", \"Ground Duels\",\n",
    "            \"Crosses\", \"Carries\"\n",
    "        ]\n",
    "    laterais_time = df_southampton[df_southampton[\"Position\"] == \"DEF\"]\n",
    "    laterais_liga = df_pl[df_pl[\"Position\"] == \"DEF\"]\n",
    "\n",
    "    print(f\"\\n Comparação dos laterais do time com a média de laterais da competição ({posicao}):\\n\")\n",
    "\n",
    "    for metrica_laterais in metricas_laterais:\n",
    "        media_time_laterais = laterais_time[metrica_laterais].mean()\n",
    "        media_liga_laterais = laterais_liga[metrica_laterais].mean()\n",
    "        print(f\"{metrica_laterais}: estatísticas Southampton = {media_time_laterais:.2f} vs estatísticas Premier League = {media_liga_laterais:.2f}\")\n",
    "\n",
    "\n",
    "# Chamando a função\n",
    "comparacao_laterais(df_southampton, df_pl)        "
   ]
  },
  {
   "cell_type": "code",
   "execution_count": 47,
   "id": "6b0a144d-dbc2-4f8b-b1ad-9b7f39c1bb9b",
   "metadata": {},
   "outputs": [],
   "source": [
    "# convertendo valores de porcentagem em numeros\n",
    "df_southampton[\"Conversion %\"] = df_southampton[\"Conversion %\"].str.replace(\"%\", \"\").astype(float)\n",
    "df_pl[\"Conversion %\"] = df_pl[\"Conversion %\"].str.replace(\"%\", \"\").astype(float)"
   ]
  },
  {
   "cell_type": "code",
   "execution_count": 48,
   "id": "b19d098c-0ba1-426f-ac4d-087990e8f52c",
   "metadata": {},
   "outputs": [
    {
     "name": "stdout",
     "output_type": "stream",
     "text": [
      "\n",
      " Comparação do ataque do time com a média da competição (FWD):\n",
      "\n",
      "Goals: Southampton = 1.29 | Premier League = 3.77\n",
      "Shots On Target: Southampton = 3.29 | Premier League = 5.20\n",
      "Big Chances Missed: Southampton = 2.86 | Premier League = 5.38\n",
      "Conversion %: Southampton = 1.00 | Premier League = 3.84\n",
      "Gols por 90m: Southampton = 0.11 | Premier League = 0.26\n",
      "Chutes por 90m: Southampton = 1.67 | Premier League = 3.93\n",
      "Chutes ao gol por 90m: Southampton = 0.26 | Premier League = 0.25\n",
      "Grandes chances perdidas por 90m: Southampton = 0.26 | Premier League = 0.38\n",
      "Gols por Assistência: Southampton = nan | Premier League = 2.43\n"
     ]
    },
    {
     "data": {
      "text/plain": [
       "(['Goals',\n",
       "  'Shots On Target',\n",
       "  'Big Chances Missed',\n",
       "  'Conversion %',\n",
       "  'Gols por 90m',\n",
       "  'Chutes por 90m',\n",
       "  'Chutes ao gol por 90m',\n",
       "  'Grandes chances perdidas por 90m',\n",
       "  'Gols por Assistência'],\n",
       " np.float64(2.4278846153846154),\n",
       " np.float64(2.4278846153846154))"
      ]
     },
     "execution_count": 48,
     "metadata": {},
     "output_type": "execute_result"
    }
   ],
   "source": [
    "# analise de atacantes\n",
    "def comparacao_atacantes(df_southampton, df_pl, posicao=\"FWD\", metricas_ataque=None):\n",
    "    if metricas_ataque is None:\n",
    "        metricas_ataque = [\n",
    "            \"Goals\", \"Shots On Target\", \"Big Chances Missed\", \"Conversion %\",\n",
    "            'Gols por 90m', 'Chutes por 90m', 'Chutes ao gol por 90m', 'Grandes chances perdidas por 90m',\n",
    "            'Gols por Assistência'\n",
    "        ]\n",
    "\n",
    "        ataque_time = df_southampton[df_southampton[\"Position\"] == \"FWD\"]\n",
    "        ataque_pl = df_pl[df_pl[\"Position\"] == \"FWD\"]\n",
    "\n",
    "        print(f\"\\n Comparação do ataque do time com a média da competição ({posicao}):\\n\")\n",
    "\n",
    "        for metrica_ataque in metricas_ataque:\n",
    "            metrica_time = ataque_time[metrica_ataque].mean()\n",
    "            metrica_pl = ataque_pl[metrica_ataque].mean()\n",
    "\n",
    "            print(f\"{metrica_ataque}: Southampton = {metrica_time:.2f} | Premier League = {metrica_pl:.2f}\")\n",
    "\n",
    "    return metricas_ataque, metrica_pl, metrica_pl\n",
    "comparacao_atacantes(df_southampton, df_pl)    "
   ]
  },
  {
   "cell_type": "code",
   "execution_count": 36,
   "id": "20c9f03b-cb75-48d2-9956-081adb27e5ab",
   "metadata": {},
   "outputs": [
    {
     "name": "stdout",
     "output_type": "stream",
     "text": [
      "         Player Name  Goals  Assists\n",
      "2     Albert Grønbæk      0        0\n",
      "5       Ben Brereton      0        0\n",
      "6     Cameron Archer      2        0\n",
      "8   Chiedozie Ogbene      0        0\n",
      "22      Paul Onuachu      4        0\n",
      "24      Ross Stewart      1        0\n",
      "30     Tyler Dibling      2        0\n",
      "Soma de assistências: 0\n"
     ]
    }
   ],
   "source": [
    "# verificando o motivo da linha \"Gols por assistencia ser nan\"\n",
    "\n",
    "atacantes_southampton = df_southampton[\n",
    "    (df_southampton['Club'] == 'Southampton') & \n",
    "    (df_southampton['Position'].str.contains('FWD', na=False))\n",
    "]\n",
    "\n",
    "print(atacantes_southampton[['Player Name', 'Goals', 'Assists']])\n",
    "print(\"Soma de assistências:\", atacantes_southampton['Assists'].sum())\n"
   ]
  }
 ],
 "metadata": {
  "kernelspec": {
   "display_name": "Python 3 (ipykernel)",
   "language": "python",
   "name": "python3"
  },
  "language_info": {
   "codemirror_mode": {
    "name": "ipython",
    "version": 3
   },
   "file_extension": ".py",
   "mimetype": "text/x-python",
   "name": "python",
   "nbconvert_exporter": "python",
   "pygments_lexer": "ipython3",
   "version": "3.13.4"
  }
 },
 "nbformat": 4,
 "nbformat_minor": 5
}
